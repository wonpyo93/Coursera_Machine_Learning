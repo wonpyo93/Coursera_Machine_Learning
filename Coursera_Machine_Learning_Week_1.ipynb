{
  "nbformat": 4,
  "nbformat_minor": 0,
  "metadata": {
    "colab": {
      "name": "Coursera_Machine_Learning_Week_1.ipynb",
      "provenance": []
    },
    "kernelspec": {
      "name": "python3",
      "display_name": "Python 3"
    }
  },
  "cells": [
    {
      "cell_type": "markdown",
      "metadata": {
        "id": "g9-E8_XQtfmK"
      },
      "source": [
        "Converting Matlab code example to python"
      ]
    },
    {
      "cell_type": "code",
      "metadata": {
        "id": "uIRhsPZDrwaP"
      },
      "source": [
        "import numpy as np"
      ],
      "execution_count": 7,
      "outputs": []
    },
    {
      "cell_type": "code",
      "metadata": {
        "colab": {
          "base_uri": "https://localhost:8080/"
        },
        "id": "2QVTEM6GrCLQ",
        "outputId": "0c892a01-2164-4e00-c306-90becce1629d"
      },
      "source": [
        "# A = [1,2,3;4,5,6;7,8,9;10,11,12]\r\n",
        "A = [[1,2,3],[4,5,6],[7,8,9],[10,11,12]]\r\n",
        "print(A)\r\n",
        "# print(A.shape) results error"
      ],
      "execution_count": 11,
      "outputs": [
        {
          "output_type": "stream",
          "text": [
            "[[1, 2, 3], [4, 5, 6], [7, 8, 9], [10, 11, 12]]\n"
          ],
          "name": "stdout"
        }
      ]
    },
    {
      "cell_type": "code",
      "metadata": {
        "colab": {
          "base_uri": "https://localhost:8080/"
        },
        "id": "5_A2Vhxar1k6",
        "outputId": "dc58b0f2-0794-4b6c-d175-79c3e3475d51"
      },
      "source": [
        "B = np.array([[1,2,3],[4,5,6],[7,8,9],[10,11,12]])\r\n",
        "print(B)\r\n",
        "print(B.shape)"
      ],
      "execution_count": 9,
      "outputs": [
        {
          "output_type": "stream",
          "text": [
            "[[ 1  2  3]\n",
            " [ 4  5  6]\n",
            " [ 7  8  9]\n",
            " [10 11 12]]\n",
            "(4, 3)\n"
          ],
          "name": "stdout"
        }
      ]
    },
    {
      "cell_type": "code",
      "metadata": {
        "colab": {
          "base_uri": "https://localhost:8080/"
        },
        "id": "xa3su5JPrOJF",
        "outputId": "b07d8001-137c-4711-e79b-5e3e7bd73e06"
      },
      "source": [
        "v = np.array([[1],[2],[3]])\r\n",
        "print(v)\r\n",
        "print(v.shape)"
      ],
      "execution_count": 13,
      "outputs": [
        {
          "output_type": "stream",
          "text": [
            "[[1]\n",
            " [2]\n",
            " [3]]\n",
            "(3, 1)\n"
          ],
          "name": "stdout"
        }
      ]
    },
    {
      "cell_type": "code",
      "metadata": {
        "colab": {
          "base_uri": "https://localhost:8080/"
        },
        "id": "owPk_W8LrQ3I",
        "outputId": "3f7cb84d-95fe-4051-f640-198e5cc7ac9e"
      },
      "source": [
        "# print(B(2,3)) is a wrong syntax\r\n",
        "print(B[1,2])\r\n",
        "B[1,2]"
      ],
      "execution_count": 25,
      "outputs": [
        {
          "output_type": "stream",
          "text": [
            "6\n"
          ],
          "name": "stdout"
        },
        {
          "output_type": "execute_result",
          "data": {
            "text/plain": [
              "6"
            ]
          },
          "metadata": {
            "tags": []
          },
          "execution_count": 25
        }
      ]
    },
    {
      "cell_type": "code",
      "metadata": {
        "colab": {
          "base_uri": "https://localhost:8080/"
        },
        "id": "ZqbpRfVCsneu",
        "outputId": "ae215ced-2d86-4549-d1fb-95c475e3b7d0"
      },
      "source": [
        "# A = [1, 2, 4; 5, 3, 2]\r\n",
        "# B = [1, 3, 4; 1, 1, 1]\r\n",
        "A = np.array([[1, 2, 4], [5, 3, 2]])\r\n",
        "B = np.array([[1, 3, 4], [1, 1, 1]])\r\n",
        "s = 2\r\n",
        "print(A)\r\n",
        "print(B)"
      ],
      "execution_count": 33,
      "outputs": [
        {
          "output_type": "stream",
          "text": [
            "[[1 2 4]\n",
            " [5 3 2]]\n",
            "[[1 3 4]\n",
            " [1 1 1]]\n"
          ],
          "name": "stdout"
        }
      ]
    },
    {
      "cell_type": "code",
      "metadata": {
        "colab": {
          "base_uri": "https://localhost:8080/"
        },
        "id": "jpbIBdOhwog3",
        "outputId": "0f9172f4-7548-462e-830a-db37246a9926"
      },
      "source": [
        "add_AB = A + B\r\n",
        "print(add_AB)\r\n",
        "\r\n",
        "sub_AB = A - B\r\n",
        "print(sub_AB)\r\n",
        "\r\n",
        "mult_As = A * s\r\n",
        "print(mult_As)\r\n",
        "\r\n",
        "div_As = A / s\r\n",
        "print(div_As)"
      ],
      "execution_count": 34,
      "outputs": [
        {
          "output_type": "stream",
          "text": [
            "[[2 5 8]\n",
            " [6 4 3]]\n",
            "[[ 0 -1  0]\n",
            " [ 4  2  1]]\n",
            "[[ 2  4  8]\n",
            " [10  6  4]]\n",
            "[[0.5 1.  2. ]\n",
            " [2.5 1.5 1. ]]\n"
          ],
          "name": "stdout"
        }
      ]
    },
    {
      "cell_type": "code",
      "metadata": {
        "colab": {
          "base_uri": "https://localhost:8080/"
        },
        "id": "vHpgonduwv0m",
        "outputId": "8b488d11-c592-4e49-b94a-235398fb97a2"
      },
      "source": [
        "add_As = A + s\r\n",
        "print(add_As)\r\n",
        "#adding a matrix A and a number s means adding the number s to all elements of matrix A"
      ],
      "execution_count": 36,
      "outputs": [
        {
          "output_type": "stream",
          "text": [
            "[[3 4 6]\n",
            " [7 5 4]]\n"
          ],
          "name": "stdout"
        }
      ]
    },
    {
      "cell_type": "code",
      "metadata": {
        "colab": {
          "base_uri": "https://localhost:8080/"
        },
        "id": "RtC8S8xjxP7r",
        "outputId": "f930ce3a-18ca-4ce2-f388-fa9c4a2ee005"
      },
      "source": [
        "A = np.array([[1,2,3], [4,5,6], [7,8,9]])\r\n",
        "print(A)"
      ],
      "execution_count": 40,
      "outputs": [
        {
          "output_type": "stream",
          "text": [
            "[[1 2 3]\n",
            " [4 5 6]\n",
            " [7 8 9]]\n"
          ],
          "name": "stdout"
        }
      ]
    },
    {
      "cell_type": "code",
      "metadata": {
        "colab": {
          "base_uri": "https://localhost:8080/"
        },
        "id": "c_582Dua0L7l",
        "outputId": "d7c594eb-2609-42b0-94ab-b469425dc0d2"
      },
      "source": [
        "v = np.array([[1], [1], [1]])\r\n",
        "print(v)"
      ],
      "execution_count": 44,
      "outputs": [
        {
          "output_type": "stream",
          "text": [
            "[[1]\n",
            " [1]\n",
            " [1]]\n"
          ],
          "name": "stdout"
        }
      ]
    },
    {
      "cell_type": "code",
      "metadata": {
        "colab": {
          "base_uri": "https://localhost:8080/"
        },
        "id": "U7B4U5R70Q4g",
        "outputId": "8a7a8375-84e7-4d14-f53d-a60452d80876"
      },
      "source": [
        "Av = A * v\r\n",
        "print(Av)\r\n",
        "# A * v is not what we want. What we want is a dot product.\r\n",
        "\r\n",
        "Av = A.dot(v)\r\n",
        "print(Av)"
      ],
      "execution_count": 45,
      "outputs": [
        {
          "output_type": "stream",
          "text": [
            "[[1 2 3]\n",
            " [4 5 6]\n",
            " [7 8 9]]\n",
            "[[ 6]\n",
            " [15]\n",
            " [24]]\n"
          ],
          "name": "stdout"
        }
      ]
    },
    {
      "cell_type": "code",
      "metadata": {
        "id": "s1os6Oh10TSH"
      },
      "source": [
        "# Then what is the main difference between dot product and matmul in Python?\r\n",
        "#simply put, for matmul, multiplication by scalars is not allowed, and stacks of matrices are broadcast together as if the matrices were elements."
      ],
      "execution_count": 46,
      "outputs": []
    },
    {
      "cell_type": "markdown",
      "metadata": {
        "id": "DqdhMRqG2HaX"
      },
      "source": [
        "From the documentation:\r\n",
        "\r\n",
        "matmul differs from dot in two important ways.\r\n",
        "\r\n",
        "Multiplication by scalars is not allowed.\r\n",
        "Stacks of matrices are broadcast together as if the matrices were elements.\r\n",
        "The last point makes it clear that dot and matmul methods behave differently when passed 3D (or higher dimensional) arrays. Quoting from the documentation some more:\r\n",
        "\r\n",
        "For matmul:\r\n",
        "\r\n",
        "If either argument is N-D, N > 2, it is treated as a stack of matrices residing in the last two indexes and broadcast accordingly. For np.dot:\r\n",
        "\r\n",
        "For 2-D arrays it is equivalent to matrix multiplication, and for 1-D arrays to inner product of vectors (without complex conjugation). For N dimensions it is a sum product over the last axis of a and the second-to-last of b\r\n",
        "\r\n",
        "https://stackoverflow.com/questions/61550454/what-is-the-difference-between-numpy-dot-and-matmul-functions-in-python3\r\n",
        "\r\n",
        "Gradient Descent For Multiple Variables\r\n",
        "\r\n",
        "repeat until convergence:{θj:=θj−α1m∑i=1m(hθ(x(i))−y(i))⋅x(i)jfor j := 0...n"
      ]
    },
    {
      "cell_type": "code",
      "metadata": {
        "id": "xxxx82Xs2Lal"
      },
      "source": [
        ""
      ],
      "execution_count": null,
      "outputs": []
    }
  ]
}